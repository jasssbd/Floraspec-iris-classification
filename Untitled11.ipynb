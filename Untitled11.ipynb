{
  "nbformat": 4,
  "nbformat_minor": 0,
  "metadata": {
    "colab": {
      "provenance": [],
      "authorship_tag": "ABX9TyMdp4PUH7s6O+ieHnuR8oYl",
      "include_colab_link": true
    },
    "kernelspec": {
      "name": "python3",
      "display_name": "Python 3"
    },
    "language_info": {
      "name": "python"
    }
  },
  "cells": [
    {
      "cell_type": "markdown",
      "metadata": {
        "id": "view-in-github",
        "colab_type": "text"
      },
      "source": [
        "<a href=\"https://colab.research.google.com/github/jasssbd/Floraspec-iris-classification/blob/main/Untitled11.ipynb\" target=\"_parent\"><img src=\"https://colab.research.google.com/assets/colab-badge.svg\" alt=\"Open In Colab\"/></a>"
      ]
    },
    {
      "cell_type": "code",
      "execution_count": 1,
      "metadata": {
        "colab": {
          "base_uri": "https://localhost:8080/",
          "height": 697
        },
        "id": "QbS3oyi05lSj",
        "outputId": "84838462-4372-4779-f2ab-344b535d2e27"
      },
      "outputs": [
        {
          "output_type": "stream",
          "name": "stderr",
          "text": [
            "/usr/local/lib/python3.12/dist-packages/sklearn/linear_model/_logistic.py:1247: FutureWarning: 'multi_class' was deprecated in version 1.5 and will be removed in 1.7. From then on, it will always use 'multinomial'. Leave it to its default value to avoid this warning.\n",
            "  warnings.warn(\n"
          ]
        },
        {
          "output_type": "stream",
          "name": "stdout",
          "text": [
            "✅ Model trained successfully! Test Accuracy: 100.00%\n",
            "It looks like you are running Gradio on a hosted Jupyter notebook, which requires `share=True`. Automatically setting `share=True` (you can turn this off by setting `share=False` in `launch()` explicitly).\n",
            "\n",
            "Colab notebook detected. To show errors in colab notebook, set debug=True in launch()\n",
            "* Running on public URL: https://36a859adc66924379a.gradio.live\n",
            "\n",
            "This share link expires in 1 week. For free permanent hosting and GPU upgrades, run `gradio deploy` from the terminal in the working directory to deploy to Hugging Face Spaces (https://huggingface.co/spaces)\n"
          ]
        },
        {
          "output_type": "display_data",
          "data": {
            "text/plain": [
              "<IPython.core.display.HTML object>"
            ],
            "text/html": [
              "<div><iframe src=\"https://36a859adc66924379a.gradio.live\" width=\"100%\" height=\"500\" allow=\"autoplay; camera; microphone; clipboard-read; clipboard-write;\" frameborder=\"0\" allowfullscreen></iframe></div>"
            ]
          },
          "metadata": {}
        },
        {
          "output_type": "execute_result",
          "data": {
            "text/plain": []
          },
          "metadata": {},
          "execution_count": 1
        }
      ],
      "source": [
        "# 🌸 FloraSpec: An Interactive Iris Species Classifier using Logistic Regression\n",
        "\n",
        "# 1. Setup and Data Loading\n",
        "import numpy as np\n",
        "import pandas as pd\n",
        "from sklearn.datasets import load_iris\n",
        "from sklearn.model_selection import train_test_split\n",
        "from sklearn.linear_model import LogisticRegression\n",
        "\n",
        "# Load dataset\n",
        "iris = load_iris()\n",
        "df = pd.DataFrame(data=np.c_[iris['data'], iris['target']],\n",
        "                  columns=iris['feature_names'] + ['target'])\n",
        "df['species'] = df['target'].map({0: 'setosa', 1: 'versicolor', 2: 'virginica'})\n",
        "\n",
        "# Features and target\n",
        "X = df.drop(['target', 'species'], axis=1)\n",
        "y = df['target']\n",
        "\n",
        "# Split dataset\n",
        "X_train, X_test, y_train, y_test = train_test_split(X, y, test_size=0.2, random_state=42)\n",
        "\n",
        "# Train Logistic Regression model\n",
        "model = LogisticRegression(multi_class='multinomial', solver='lbfgs', max_iter=200)\n",
        "model.fit(X_train, y_train)\n",
        "\n",
        "accuracy = model.score(X_test, y_test)\n",
        "print(f\"✅ Model trained successfully! Test Accuracy: {accuracy*100:.2f}%\")\n",
        "\n",
        "# 2. Define prediction function\n",
        "def predict_species(sepal_length, sepal_width, petal_length, petal_width):\n",
        "    new_data = np.array([[sepal_length, sepal_width, petal_length, petal_width]])\n",
        "    prediction = model.predict(new_data)\n",
        "    species_map = {0: 'Setosa 🌼', 1: 'Versicolor 🌸', 2: 'Virginica 🌺'}\n",
        "    return species_map[int(prediction[0])]\n",
        "\n",
        "# 3. Build Interactive Interface using Gradio\n",
        "import gradio as gr\n",
        "\n",
        "with gr.Blocks() as demo:\n",
        "    gr.Markdown(\"## 🌸 FloraSpec: Iris Flower Classifier\")\n",
        "    gr.Markdown(\"Enter sepal and petal measurements below to classify the Iris species.\")\n",
        "\n",
        "    with gr.Row():\n",
        "        sepal_length = gr.Number(label=\"Sepal Length (cm)\", value=5.1)\n",
        "        sepal_width = gr.Number(label=\"Sepal Width (cm)\", value=3.5)\n",
        "\n",
        "    with gr.Row():\n",
        "        petal_length = gr.Number(label=\"Petal Length (cm)\", value=1.4)\n",
        "        petal_width = gr.Number(label=\"Petal Width (cm)\", value=0.2)\n",
        "\n",
        "    predict_btn = gr.Button(\"🔍 Predict Species\")\n",
        "    output = gr.Textbox(label=\"Predicted Species\")\n",
        "\n",
        "    predict_btn.click(\n",
        "        predict_species,\n",
        "        inputs=[sepal_length, sepal_width, petal_length, petal_width],\n",
        "        outputs=output\n",
        "    )\n",
        "\n",
        "# 4. Launch the App\n",
        "demo.launch()"
      ]
    }
  ]
}